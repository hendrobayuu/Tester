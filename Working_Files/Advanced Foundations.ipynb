{
 "cells": [
  {
   "cell_type": "markdown",
   "id": "a3c25ad2",
   "metadata": {},
   "source": [
    "# List Comprehensions in Python"
   ]
  },
  {
   "cell_type": "code",
   "execution_count": 1,
   "id": "d204a2fd",
   "metadata": {},
   "outputs": [],
   "source": [
    "x = range(6)"
   ]
  },
  {
   "cell_type": "code",
   "execution_count": 2,
   "id": "c1bf429f",
   "metadata": {},
   "outputs": [],
   "source": [
    "evens = [n for n in x if n % 2 == 0]"
   ]
  },
  {
   "cell_type": "code",
   "execution_count": 3,
   "id": "049705b0",
   "metadata": {},
   "outputs": [
    {
     "data": {
      "text/plain": [
       "[0, 2, 4]"
      ]
     },
     "execution_count": 3,
     "metadata": {},
     "output_type": "execute_result"
    }
   ],
   "source": [
    "evens"
   ]
  },
  {
   "cell_type": "code",
   "execution_count": 4,
   "id": "e58ea090",
   "metadata": {},
   "outputs": [],
   "source": [
    "square_nums = [n * n for n in x]"
   ]
  },
  {
   "cell_type": "code",
   "execution_count": 5,
   "id": "6344fc67",
   "metadata": {},
   "outputs": [
    {
     "data": {
      "text/plain": [
       "[0, 1, 4, 9, 16, 25]"
      ]
     },
     "execution_count": 5,
     "metadata": {},
     "output_type": "execute_result"
    }
   ],
   "source": [
    "square_nums"
   ]
  },
  {
   "cell_type": "code",
   "execution_count": 6,
   "id": "bb05c756",
   "metadata": {},
   "outputs": [],
   "source": [
    "set_of_squares = {n * n for n in x}"
   ]
  },
  {
   "cell_type": "code",
   "execution_count": 7,
   "id": "f81e97e6",
   "metadata": {},
   "outputs": [
    {
     "data": {
      "text/plain": [
       "{0, 1, 4, 9, 16, 25}"
      ]
     },
     "execution_count": 7,
     "metadata": {},
     "output_type": "execute_result"
    }
   ],
   "source": [
    "set_of_squares"
   ]
  },
  {
   "cell_type": "markdown",
   "id": "fa8a5ae0",
   "metadata": {},
   "source": [
    "# Built-in Modules"
   ]
  },
  {
   "cell_type": "code",
   "execution_count": 8,
   "id": "8255ae69",
   "metadata": {},
   "outputs": [],
   "source": [
    "import random"
   ]
  },
  {
   "cell_type": "code",
   "execution_count": 9,
   "id": "420c65d1",
   "metadata": {},
   "outputs": [],
   "source": [
    "new_randint = random.randint"
   ]
  },
  {
   "cell_type": "code",
   "execution_count": 10,
   "id": "e38165f2",
   "metadata": {},
   "outputs": [
    {
     "name": "stdout",
     "output_type": "stream",
     "text": [
      "36\n"
     ]
    }
   ],
   "source": [
    "print(new_randint(2, 70))"
   ]
  },
  {
   "cell_type": "code",
   "execution_count": 11,
   "id": "b8ba9c62",
   "metadata": {},
   "outputs": [],
   "source": [
    "from random import randint"
   ]
  },
  {
   "cell_type": "code",
   "execution_count": 12,
   "id": "6bebebef",
   "metadata": {},
   "outputs": [
    {
     "name": "stdout",
     "output_type": "stream",
     "text": [
      "18\n"
     ]
    }
   ],
   "source": [
    "print(randint(2, 70))"
   ]
  },
  {
   "cell_type": "code",
   "execution_count": 13,
   "id": "cf2a0d60",
   "metadata": {},
   "outputs": [],
   "source": [
    "from random import randint, choice"
   ]
  },
  {
   "cell_type": "code",
   "execution_count": 14,
   "id": "fe50ca33",
   "metadata": {},
   "outputs": [
    {
     "name": "stdout",
     "output_type": "stream",
     "text": [
      "29\n"
     ]
    }
   ],
   "source": [
    "print(randint(2, 40))"
   ]
  },
  {
   "cell_type": "code",
   "execution_count": 15,
   "id": "7b8a2574",
   "metadata": {},
   "outputs": [
    {
     "name": "stdout",
     "output_type": "stream",
     "text": [
      "31\n"
     ]
    }
   ],
   "source": [
    "print(choice([11, 31, 42, 45, 70]))"
   ]
  },
  {
   "cell_type": "code",
   "execution_count": 16,
   "id": "ba535e02",
   "metadata": {},
   "outputs": [],
   "source": [
    "import math"
   ]
  },
  {
   "cell_type": "code",
   "execution_count": 17,
   "id": "14f55218",
   "metadata": {},
   "outputs": [
    {
     "data": {
      "text/plain": [
       "2.23606797749979"
      ]
     },
     "execution_count": 17,
     "metadata": {},
     "output_type": "execute_result"
    }
   ],
   "source": [
    "math.sqrt(5)"
   ]
  },
  {
   "cell_type": "code",
   "execution_count": 18,
   "id": "b87f0aad",
   "metadata": {},
   "outputs": [
    {
     "data": {
      "text/plain": [
       "6.0"
      ]
     },
     "execution_count": 18,
     "metadata": {},
     "output_type": "execute_result"
    }
   ],
   "source": [
    "math.sqrt(36)"
   ]
  },
  {
   "cell_type": "code",
   "execution_count": 19,
   "id": "b4900814",
   "metadata": {},
   "outputs": [
    {
     "data": {
      "text/plain": [
       "2.718281828459045"
      ]
     },
     "execution_count": 19,
     "metadata": {},
     "output_type": "execute_result"
    }
   ],
   "source": [
    "math.e"
   ]
  },
  {
   "cell_type": "code",
   "execution_count": 20,
   "id": "df21ee1e",
   "metadata": {},
   "outputs": [
    {
     "data": {
      "text/plain": [
       "3.141592653589793"
      ]
     },
     "execution_count": 20,
     "metadata": {},
     "output_type": "execute_result"
    }
   ],
   "source": [
    "math.pi"
   ]
  },
  {
   "cell_type": "code",
   "execution_count": 21,
   "id": "ab4bca6f",
   "metadata": {},
   "outputs": [
    {
     "data": {
      "text/plain": [
       "1.5707963267948966"
      ]
     },
     "execution_count": 21,
     "metadata": {},
     "output_type": "execute_result"
    }
   ],
   "source": [
    "math.radians(90)"
   ]
  },
  {
   "cell_type": "code",
   "execution_count": 22,
   "id": "f0d85bc0",
   "metadata": {},
   "outputs": [
    {
     "data": {
      "text/plain": [
       "29.999999999999996"
      ]
     },
     "execution_count": 22,
     "metadata": {},
     "output_type": "execute_result"
    }
   ],
   "source": [
    "math.degrees(math.pi/6)"
   ]
  },
  {
   "cell_type": "code",
   "execution_count": 23,
   "id": "31baabde",
   "metadata": {},
   "outputs": [],
   "source": [
    "from math import sin,cos, tan, log"
   ]
  },
  {
   "cell_type": "code",
   "execution_count": 24,
   "id": "d23adcb8",
   "metadata": {},
   "outputs": [
    {
     "data": {
      "text/plain": [
       "0.479425538604203"
      ]
     },
     "execution_count": 24,
     "metadata": {},
     "output_type": "execute_result"
    }
   ],
   "source": [
    "math.sin(0.5)"
   ]
  },
  {
   "cell_type": "code",
   "execution_count": 25,
   "id": "bd7334d8",
   "metadata": {},
   "outputs": [
    {
     "data": {
      "text/plain": [
       "0.8775825618903728"
      ]
     },
     "execution_count": 25,
     "metadata": {},
     "output_type": "execute_result"
    }
   ],
   "source": [
    "math.cos(0.5)"
   ]
  },
  {
   "cell_type": "code",
   "execution_count": 26,
   "id": "781ef268",
   "metadata": {},
   "outputs": [
    {
     "data": {
      "text/plain": [
       "0.5463024898437905"
      ]
     },
     "execution_count": 26,
     "metadata": {},
     "output_type": "execute_result"
    }
   ],
   "source": [
    "math.tan(0.5)"
   ]
  },
  {
   "cell_type": "code",
   "execution_count": 27,
   "id": "b7961a32",
   "metadata": {},
   "outputs": [
    {
     "data": {
      "text/plain": [
       "2.995732273553991"
      ]
     },
     "execution_count": 27,
     "metadata": {},
     "output_type": "execute_result"
    }
   ],
   "source": [
    "math.log(20)"
   ]
  },
  {
   "cell_type": "code",
   "execution_count": 28,
   "id": "e81b3af2",
   "metadata": {},
   "outputs": [],
   "source": [
    "import statistics"
   ]
  },
  {
   "cell_type": "code",
   "execution_count": 29,
   "id": "3dd6827f",
   "metadata": {},
   "outputs": [
    {
     "data": {
      "text/plain": [
       "50"
      ]
     },
     "execution_count": 29,
     "metadata": {},
     "output_type": "execute_result"
    }
   ],
   "source": [
    "statistics.mean([10, 30, 50, 90, 70])"
   ]
  },
  {
   "cell_type": "code",
   "execution_count": 30,
   "id": "9d48e63b",
   "metadata": {},
   "outputs": [
    {
     "data": {
      "text/plain": [
       "22"
      ]
     },
     "execution_count": 30,
     "metadata": {},
     "output_type": "execute_result"
    }
   ],
   "source": [
    "statistics.median([11, 21, 31, 41, 22])"
   ]
  },
  {
   "cell_type": "code",
   "execution_count": 31,
   "id": "571544db",
   "metadata": {},
   "outputs": [
    {
     "data": {
      "text/plain": [
       "3"
      ]
     },
     "execution_count": 31,
     "metadata": {},
     "output_type": "execute_result"
    }
   ],
   "source": [
    "statistics.mode([23, 3, 45, 7, 11, 12, 44, 3])"
   ]
  },
  {
   "cell_type": "code",
   "execution_count": 32,
   "id": "f1b303e5",
   "metadata": {},
   "outputs": [
    {
     "data": {
      "text/plain": [
       "1.0801234497346435"
      ]
     },
     "execution_count": 32,
     "metadata": {},
     "output_type": "execute_result"
    }
   ],
   "source": [
    "statistics.stdev([2, 2.5, 3, 3.5, 4, 4.5, 5])"
   ]
  },
  {
   "cell_type": "markdown",
   "id": "e1d3777a",
   "metadata": {},
   "source": [
    "# Errors and Exceptions Handling "
   ]
  },
  {
   "cell_type": "code",
   "execution_count": 34,
   "id": "fcd9ec0c",
   "metadata": {},
   "outputs": [
    {
     "name": "stdout",
     "output_type": "stream",
     "text": [
      "Py\n"
     ]
    }
   ],
   "source": [
    "print (\"Py\")"
   ]
  },
  {
   "cell_type": "code",
   "execution_count": null,
   "id": "4c7f1cb5",
   "metadata": {},
   "outputs": [],
   "source": [
    "x = [0, 1, 2]"
   ]
  },
  {
   "cell_type": "code",
   "execution_count": null,
   "id": "3ae3c988",
   "metadata": {},
   "outputs": [],
   "source": [
    "x[5]"
   ]
  },
  {
   "cell_type": "code",
   "execution_count": null,
   "id": "90770412",
   "metadata": {},
   "outputs": [],
   "source": [
    "import discovery"
   ]
  },
  {
   "cell_type": "code",
   "execution_count": null,
   "id": "95497f95",
   "metadata": {},
   "outputs": [],
   "source": [
    "'3' + 4"
   ]
  },
  {
   "cell_type": "code",
   "execution_count": null,
   "id": "aeedc52d",
   "metadata": {},
   "outputs": [],
   "source": [
    "hi"
   ]
  },
  {
   "cell_type": "code",
   "execution_count": null,
   "id": "9b8e5e7c",
   "metadata": {},
   "outputs": [],
   "source": [
    "59/0"
   ]
  },
  {
   "cell_type": "code",
   "execution_count": null,
   "id": "55df8097",
   "metadata": {},
   "outputs": [],
   "source": [
    "try:\n",
    "    x = 4\n",
    "    y = 1\n",
    "    print(x/y)\n",
    "except:\n",
    "    print(\"There is an error here!\")\n",
    "print(\"The operation is completed!\")"
   ]
  },
  {
   "cell_type": "code",
   "execution_count": null,
   "id": "ea7659ce",
   "metadata": {},
   "outputs": [],
   "source": [
    "try:\n",
    "    x = 4\n",
    "    y = 0\n",
    "    print(x/y)\n",
    "except TypeError:\n",
    "    print(\"There is an error here!\")\n",
    "except ZeroDivisionError:\n",
    "    print(\"You can't divide the number with zero!\")\n",
    "print(\"The operation is completed!\")"
   ]
  },
  {
   "cell_type": "code",
   "execution_count": null,
   "id": "f012f1b0",
   "metadata": {},
   "outputs": [],
   "source": []
  }
 ],
 "metadata": {
  "kernelspec": {
   "display_name": "Python 3",
   "language": "python",
   "name": "python3"
  },
  "language_info": {
   "codemirror_mode": {
    "name": "ipython",
    "version": 3
   },
   "file_extension": ".py",
   "mimetype": "text/x-python",
   "name": "python",
   "nbconvert_exporter": "python",
   "pygments_lexer": "ipython3",
   "version": "3.8.8"
  }
 },
 "nbformat": 4,
 "nbformat_minor": 5
}
